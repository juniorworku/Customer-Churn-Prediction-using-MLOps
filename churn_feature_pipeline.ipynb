{
 "cells": [
  {
   "cell_type": "markdown",
   "metadata": {},
   "source": [
    "# Churn Feature Pipeline"
   ]
  },
  {
   "cell_type": "markdown",
   "metadata": {},
   "source": [
    "### Loading the data and feature engineering."
   ]
  },
  {
   "cell_type": "code",
   "execution_count": 1,
   "metadata": {},
   "outputs": [],
   "source": [
    "# Imports\n",
    "!pip install -U hopsworks --quiet"
   ]
  },
  {
   "cell_type": "code",
   "execution_count": 2,
   "metadata": {},
   "outputs": [],
   "source": [
    "import pandas as pd\n",
    "\n",
    "# ignore Warning\n",
    "import warnings\n",
    "warnings.filterwarnings('ignore')"
   ]
  },
  {
   "cell_type": "markdown",
   "metadata": {},
   "source": [
    "### Loading the Data"
   ]
  },
  {
   "cell_type": "code",
   "execution_count": 3,
   "metadata": {},
   "outputs": [],
   "source": [
    "# Read demography data\n",
    "demography_df = pd.read_csv(\"https://repo.hops.works/dev/davit/churn/demography.csv\")\n",
    "\n",
    "# Read customer info data with datetime parsing\n",
    "customer_info_df = pd.read_csv(\n",
    "    \"https://repo.hops.works/dev/davit/churn/customer_info.csv\",\n",
    "    parse_dates=['datetime'],\n",
    ")\n",
    "\n",
    "# Read subscriptions data with datetime parsing\n",
    "subscriptions_df = pd.read_csv(\n",
    "    \"https://repo.hops.works/dev/davit/churn/subscriptions.csv\",\n",
    "    parse_dates=['datetime'],\n",
    ")"
   ]
  },
  {
   "cell_type": "code",
   "execution_count": 4,
   "metadata": {},
   "outputs": [
    {
     "data": {
      "text/html": [
       "<div>\n",
       "<style scoped>\n",
       "    .dataframe tbody tr th:only-of-type {\n",
       "        vertical-align: middle;\n",
       "    }\n",
       "\n",
       "    .dataframe tbody tr th {\n",
       "        vertical-align: top;\n",
       "    }\n",
       "\n",
       "    .dataframe thead th {\n",
       "        text-align: right;\n",
       "    }\n",
       "</style>\n",
       "<table border=\"1\" class=\"dataframe\">\n",
       "  <thead>\n",
       "    <tr style=\"text-align: right;\">\n",
       "      <th></th>\n",
       "      <th>customerID</th>\n",
       "      <th>gender</th>\n",
       "      <th>SeniorCitizen</th>\n",
       "      <th>Dependents</th>\n",
       "      <th>Partner</th>\n",
       "    </tr>\n",
       "  </thead>\n",
       "  <tbody>\n",
       "    <tr>\n",
       "      <th>0</th>\n",
       "      <td>7590-VHVEG</td>\n",
       "      <td>Female</td>\n",
       "      <td>0</td>\n",
       "      <td>No</td>\n",
       "      <td>Yes</td>\n",
       "    </tr>\n",
       "    <tr>\n",
       "      <th>1</th>\n",
       "      <td>5575-GNVDE</td>\n",
       "      <td>Male</td>\n",
       "      <td>0</td>\n",
       "      <td>No</td>\n",
       "      <td>No</td>\n",
       "    </tr>\n",
       "    <tr>\n",
       "      <th>2</th>\n",
       "      <td>3668-QPYBK</td>\n",
       "      <td>Male</td>\n",
       "      <td>0</td>\n",
       "      <td>No</td>\n",
       "      <td>No</td>\n",
       "    </tr>\n",
       "  </tbody>\n",
       "</table>\n",
       "</div>"
      ],
      "text/plain": [
       "   customerID  gender  SeniorCitizen Dependents Partner\n",
       "0  7590-VHVEG  Female              0         No     Yes\n",
       "1  5575-GNVDE    Male              0         No      No\n",
       "2  3668-QPYBK    Male              0         No      No"
      ]
     },
     "execution_count": 4,
     "metadata": {},
     "output_type": "execute_result"
    }
   ],
   "source": [
    "demography_df.head(3)"
   ]
  },
  {
   "cell_type": "code",
   "execution_count": 5,
   "metadata": {},
   "outputs": [
    {
     "data": {
      "text/html": [
       "<div>\n",
       "<style scoped>\n",
       "    .dataframe tbody tr th:only-of-type {\n",
       "        vertical-align: middle;\n",
       "    }\n",
       "\n",
       "    .dataframe tbody tr th {\n",
       "        vertical-align: top;\n",
       "    }\n",
       "\n",
       "    .dataframe thead th {\n",
       "        text-align: right;\n",
       "    }\n",
       "</style>\n",
       "<table border=\"1\" class=\"dataframe\">\n",
       "  <thead>\n",
       "    <tr style=\"text-align: right;\">\n",
       "      <th></th>\n",
       "      <th>customerID</th>\n",
       "      <th>Contract</th>\n",
       "      <th>tenure</th>\n",
       "      <th>PaymentMethod</th>\n",
       "      <th>PaperlessBilling</th>\n",
       "      <th>MonthlyCharges</th>\n",
       "      <th>TotalCharges</th>\n",
       "      <th>Churn</th>\n",
       "      <th>datetime</th>\n",
       "    </tr>\n",
       "  </thead>\n",
       "  <tbody>\n",
       "    <tr>\n",
       "      <th>0</th>\n",
       "      <td>7590-VHVEG</td>\n",
       "      <td>Month-to-month</td>\n",
       "      <td>1</td>\n",
       "      <td>Electronic check</td>\n",
       "      <td>Yes</td>\n",
       "      <td>29.85</td>\n",
       "      <td>29.85</td>\n",
       "      <td>No</td>\n",
       "      <td>2021-10-25 15:07:18.625390512</td>\n",
       "    </tr>\n",
       "    <tr>\n",
       "      <th>1</th>\n",
       "      <td>5575-GNVDE</td>\n",
       "      <td>One year</td>\n",
       "      <td>34</td>\n",
       "      <td>Mailed check</td>\n",
       "      <td>No</td>\n",
       "      <td>56.95</td>\n",
       "      <td>1889.5</td>\n",
       "      <td>No</td>\n",
       "      <td>2020-06-28 06:32:24.674808292</td>\n",
       "    </tr>\n",
       "    <tr>\n",
       "      <th>2</th>\n",
       "      <td>3668-QPYBK</td>\n",
       "      <td>Month-to-month</td>\n",
       "      <td>2</td>\n",
       "      <td>Mailed check</td>\n",
       "      <td>Yes</td>\n",
       "      <td>53.85</td>\n",
       "      <td>108.15</td>\n",
       "      <td>Yes</td>\n",
       "      <td>2021-12-05 20:10:58.449304176</td>\n",
       "    </tr>\n",
       "  </tbody>\n",
       "</table>\n",
       "</div>"
      ],
      "text/plain": [
       "   customerID        Contract  tenure     PaymentMethod PaperlessBilling  \\\n",
       "0  7590-VHVEG  Month-to-month       1  Electronic check              Yes   \n",
       "1  5575-GNVDE        One year      34      Mailed check               No   \n",
       "2  3668-QPYBK  Month-to-month       2      Mailed check              Yes   \n",
       "\n",
       "   MonthlyCharges TotalCharges Churn                      datetime  \n",
       "0           29.85        29.85    No 2021-10-25 15:07:18.625390512  \n",
       "1           56.95       1889.5    No 2020-06-28 06:32:24.674808292  \n",
       "2           53.85       108.15   Yes 2021-12-05 20:10:58.449304176  "
      ]
     },
     "execution_count": 5,
     "metadata": {},
     "output_type": "execute_result"
    }
   ],
   "source": [
    "customer_info_df.head(3)"
   ]
  },
  {
   "cell_type": "code",
   "execution_count": 6,
   "metadata": {},
   "outputs": [
    {
     "data": {
      "text/html": [
       "<div>\n",
       "<style scoped>\n",
       "    .dataframe tbody tr th:only-of-type {\n",
       "        vertical-align: middle;\n",
       "    }\n",
       "\n",
       "    .dataframe tbody tr th {\n",
       "        vertical-align: top;\n",
       "    }\n",
       "\n",
       "    .dataframe thead th {\n",
       "        text-align: right;\n",
       "    }\n",
       "</style>\n",
       "<table border=\"1\" class=\"dataframe\">\n",
       "  <thead>\n",
       "    <tr style=\"text-align: right;\">\n",
       "      <th></th>\n",
       "      <th>customerID</th>\n",
       "      <th>DeviceProtection</th>\n",
       "      <th>OnlineBackup</th>\n",
       "      <th>OnlineSecurity</th>\n",
       "      <th>InternetService</th>\n",
       "      <th>MultipleLines</th>\n",
       "      <th>PhoneService</th>\n",
       "      <th>TechSupport</th>\n",
       "      <th>StreamingMovies</th>\n",
       "      <th>StreamingTV</th>\n",
       "      <th>datetime</th>\n",
       "    </tr>\n",
       "  </thead>\n",
       "  <tbody>\n",
       "    <tr>\n",
       "      <th>0</th>\n",
       "      <td>7590-VHVEG</td>\n",
       "      <td>No</td>\n",
       "      <td>Yes</td>\n",
       "      <td>No</td>\n",
       "      <td>DSL</td>\n",
       "      <td>No phone service</td>\n",
       "      <td>No</td>\n",
       "      <td>No</td>\n",
       "      <td>No</td>\n",
       "      <td>No</td>\n",
       "      <td>2021-10-25 15:07:18.625390512</td>\n",
       "    </tr>\n",
       "    <tr>\n",
       "      <th>1</th>\n",
       "      <td>5575-GNVDE</td>\n",
       "      <td>Yes</td>\n",
       "      <td>No</td>\n",
       "      <td>Yes</td>\n",
       "      <td>DSL</td>\n",
       "      <td>No</td>\n",
       "      <td>Yes</td>\n",
       "      <td>No</td>\n",
       "      <td>No</td>\n",
       "      <td>No</td>\n",
       "      <td>2020-06-28 06:32:24.674808292</td>\n",
       "    </tr>\n",
       "    <tr>\n",
       "      <th>2</th>\n",
       "      <td>3668-QPYBK</td>\n",
       "      <td>No</td>\n",
       "      <td>Yes</td>\n",
       "      <td>Yes</td>\n",
       "      <td>DSL</td>\n",
       "      <td>No</td>\n",
       "      <td>Yes</td>\n",
       "      <td>No</td>\n",
       "      <td>No</td>\n",
       "      <td>No</td>\n",
       "      <td>2021-12-05 20:10:58.449304176</td>\n",
       "    </tr>\n",
       "  </tbody>\n",
       "</table>\n",
       "</div>"
      ],
      "text/plain": [
       "   customerID DeviceProtection OnlineBackup OnlineSecurity InternetService  \\\n",
       "0  7590-VHVEG               No          Yes             No             DSL   \n",
       "1  5575-GNVDE              Yes           No            Yes             DSL   \n",
       "2  3668-QPYBK               No          Yes            Yes             DSL   \n",
       "\n",
       "      MultipleLines PhoneService TechSupport StreamingMovies StreamingTV  \\\n",
       "0  No phone service           No          No              No          No   \n",
       "1                No          Yes          No              No          No   \n",
       "2                No          Yes          No              No          No   \n",
       "\n",
       "                       datetime  \n",
       "0 2021-10-25 15:07:18.625390512  \n",
       "1 2020-06-28 06:32:24.674808292  \n",
       "2 2021-12-05 20:10:58.449304176  "
      ]
     },
     "execution_count": 6,
     "metadata": {},
     "output_type": "execute_result"
    }
   ],
   "source": [
    "subscriptions_df.head(3)"
   ]
  },
  {
   "cell_type": "markdown",
   "metadata": {},
   "source": []
  },
  {
   "cell_type": "markdown",
   "metadata": {},
   "source": [
    "## Feature Engineering"
   ]
  },
  {
   "cell_type": "code",
   "execution_count": 7,
   "metadata": {},
   "outputs": [],
   "source": [
    "# Converting the \"TotalCharges\" column to numeric\n",
    "customer_info_df[\"TotalCharges\"] = pd.to_numeric(customer_info_df[\"TotalCharges\"], errors='coerce')\n",
    "\n",
    "# Replace NaN values in the \"TotalCharges\" column with 0\n",
    "customer_info_df[\"TotalCharges\"].fillna(0, inplace=True)\n",
    "\n",
    "# Replace values in the \"Churn\" column with 0 for \"No\", and 1 for \"Yes\"\n",
    "customer_info_df[\"Churn\"].replace({\"No\": 0, \"Yes\": 1}, inplace=True)"
   ]
  },
  {
   "cell_type": "markdown",
   "metadata": {},
   "source": [
    "## Creating Feature Groups"
   ]
  },
  {
   "cell_type": "markdown",
   "metadata": {},
   "source": [
    "Create a feature group you need to connect to Hopsworks feature store."
   ]
  },
  {
   "cell_type": "code",
   "execution_count": 10,
   "metadata": {},
   "outputs": [
    {
     "name": "stdout",
     "output_type": "stream",
     "text": [
      "Connected. Call `.close()` to terminate connection gracefully.\n",
      "Copy your Api Key (first register/login): https://c.app.hopsworks.ai/account/api/generated\n",
      "Connected. Call `.close()` to terminate connection gracefully.\n",
      "\n",
      "Logged in to project, explore it here https://c.app.hopsworks.ai:443/p/1133716\n",
      "2024-10-23 22:16:29,487 WARNING: using legacy validation callback\n",
      "Connected. Call `.close()` to terminate connection gracefully.\n"
     ]
    }
   ],
   "source": [
    "import hopsworks\n",
    "\n",
    "project = hopsworks.login()\n",
    "\n",
    "fs = project.get_feature_store()"
   ]
  },
  {
   "cell_type": "markdown",
   "metadata": {},
   "source": [
    "To create a feature group you need to give it a name and specify a primary key. It is also good to provide a description of the contents of the feature group."
   ]
  },
  {
   "cell_type": "code",
   "execution_count": 11,
   "metadata": {},
   "outputs": [],
   "source": [
    "# Get or Create the 'customer_info' feature group\n",
    "customer_info_fg = fs.get_or_create_feature_group(\n",
    "    name=\"customer_info\",\n",
    "    description=\"Customer info for churn prediction\",\n",
    "    primary_key=[\"customerID\"],\n",
    "    version=1,\n",
    "    event_time=\"datetime\"\n",
    ")"
   ]
  },
  {
   "cell_type": "code",
   "execution_count": 13,
   "metadata": {},
   "outputs": [
    {
     "data": {
      "application/vnd.jupyter.widget-view+json": {
       "model_id": "2023fc34927f4c1eb08654c51f4ba47b",
       "version_major": 2,
       "version_minor": 0
      },
      "text/plain": [
       "Uploading Dataframe: 0.00% |          | Rows 0/7043 | Elapsed Time: 00:00 | Remaining Time: ?"
      ]
     },
     "metadata": {},
     "output_type": "display_data"
    },
    {
     "name": "stdout",
     "output_type": "stream",
     "text": [
      "Launching job: customer_info_1_offline_fg_materialization\n",
      "Job started successfully, you can follow the progress at \n",
      "https://c.app.hopsworks.ai/p/1133716/jobs/named/customer_info_1_offline_fg_materialization/executions\n"
     ]
    },
    {
     "data": {
      "text/plain": [
       "(<hsfs.core.job.Job at 0x2881b96a990>, None)"
      ]
     },
     "execution_count": 13,
     "metadata": {},
     "output_type": "execute_result"
    }
   ],
   "source": [
    "# Insert data into feature group\n",
    "customer_info_fg.insert(customer_info_df)"
   ]
  },
  {
   "cell_type": "code",
   "execution_count": 14,
   "metadata": {},
   "outputs": [],
   "source": [
    "# Update feature descriptions\n",
    "feature_descriptions = [\n",
    "    {\"name\": \"customerid\", \"description\": \"Customer id\"}, \n",
    "    {\"name\": \"contract\", \"description\": \"Type of contact\"}, \n",
    "    {\"name\": \"tenure\", \"description\": \"How long they’ve been a customer\"}, \n",
    "    {\"name\": \"paymentmethod\", \"description\": \"Payment method\"}, \n",
    "    {\"name\": \"paperlessbilling\", \"description\": \"Whether customer has paperless billing or not\"}, \n",
    "    {\"name\": \"monthlycharges\", \"description\": \"Monthly charges\"}, \n",
    "    {\"name\": \"totalcharges\", \"description\": \"Total charges\"},\n",
    "    {\"name\": \"churn\", \"description\": \"Whether customer has left within the last month or not\"},\n",
    "    {\"name\": \"datetime\", \"description\": \"Date when the customer information was recorded\"},\n",
    "]\n",
    "\n",
    "for feature in feature_descriptions:\n",
    "    customer_info_fg.update_feature_description(feature[\"name\"], feature[\"description\"])"
   ]
  },
  {
   "cell_type": "code",
   "execution_count": 15,
   "metadata": {},
   "outputs": [
    {
     "name": "stdout",
     "output_type": "stream",
     "text": [
      "Feature Group created successfully, explore it at \n",
      "https://c.app.hopsworks.ai:443/p/1133716/fs/1124419/fg/1305936\n"
     ]
    },
    {
     "data": {
      "application/vnd.jupyter.widget-view+json": {
       "model_id": "d45e7c87d1dc4c978e330efaaf12a4d3",
       "version_major": 2,
       "version_minor": 0
      },
      "text/plain": [
       "Uploading Dataframe: 0.00% |          | Rows 0/7043 | Elapsed Time: 00:00 | Remaining Time: ?"
      ]
     },
     "metadata": {},
     "output_type": "display_data"
    },
    {
     "name": "stdout",
     "output_type": "stream",
     "text": [
      "Launching job: customer_demography_info_1_offline_fg_materialization\n",
      "Job started successfully, you can follow the progress at \n",
      "https://c.app.hopsworks.ai/p/1133716/jobs/named/customer_demography_info_1_offline_fg_materialization/executions\n"
     ]
    },
    {
     "data": {
      "text/plain": [
       "(<hsfs.core.job.Job at 0x2881b082300>, None)"
      ]
     },
     "execution_count": 15,
     "metadata": {},
     "output_type": "execute_result"
    }
   ],
   "source": [
    "# Get or create the 'customer_demography_info' feature group\n",
    "demography_fg = fs.get_or_create_feature_group(\n",
    "    name=\"customer_demography_info\",\n",
    "    description=\"Customer demography info for churn prediction.\",\n",
    "    primary_key=[\"customerID\"],\n",
    "    version=1,\n",
    ")\n",
    "\n",
    "# Insert data into feature group\n",
    "demography_fg.insert(demography_df)"
   ]
  },
  {
   "cell_type": "code",
   "execution_count": 16,
   "metadata": {},
   "outputs": [],
   "source": [
    "# Update feature descriptions\n",
    "feature_descriptions =  [\n",
    "    {\"name\": \"customerid\", \"description\": \"Customer id\"}, \n",
    "    {\"name\": \"gender\", \"description\": \"Customer gender\"},\n",
    "    {\"name\": \"seniorcitizen\", \"description\": \"Whether customer is a senior citizen or not\"}, \n",
    "    {\"name\": \"dependents\", \"description\": \"Whether customer has dependents or not\"}, \n",
    "    {\"name\": \"partner\", \"description\": \"Whether customer has partners or not\"}, \n",
    "]\n",
    "\n",
    "for feature in feature_descriptions:\n",
    "    demography_fg.update_feature_description(feature[\"name\"], feature[\"description\"])"
   ]
  },
  {
   "cell_type": "code",
   "execution_count": 17,
   "metadata": {},
   "outputs": [
    {
     "name": "stdout",
     "output_type": "stream",
     "text": [
      "Feature Group created successfully, explore it at \n",
      "https://c.app.hopsworks.ai:443/p/1133716/fs/1124419/fg/1310026\n"
     ]
    },
    {
     "data": {
      "application/vnd.jupyter.widget-view+json": {
       "model_id": "07af419491fc44d49d97b36f078c82f4",
       "version_major": 2,
       "version_minor": 0
      },
      "text/plain": [
       "Uploading Dataframe: 0.00% |          | Rows 0/7043 | Elapsed Time: 00:00 | Remaining Time: ?"
      ]
     },
     "metadata": {},
     "output_type": "display_data"
    },
    {
     "name": "stdout",
     "output_type": "stream",
     "text": [
      "Launching job: customer_subscription_info_1_offline_fg_materialization\n",
      "Job started successfully, you can follow the progress at \n",
      "https://c.app.hopsworks.ai/p/1133716/jobs/named/customer_subscription_info_1_offline_fg_materialization/executions\n"
     ]
    },
    {
     "data": {
      "text/plain": [
       "(<hsfs.core.job.Job at 0x2881b174560>, None)"
      ]
     },
     "execution_count": 17,
     "metadata": {},
     "output_type": "execute_result"
    }
   ],
   "source": [
    "# Get or create the 'customer_subscription_info' feature group\n",
    "subscription_fg = fs.get_or_create_feature_group(\n",
    "    name=\"customer_subscription_info\",\n",
    "    description=\"Customer subscription info for churn prediction.\",\n",
    "    primary_key=[\"customerID\"],\n",
    "    version=1,\n",
    "    event_time=\"datetime\"\n",
    ")\n",
    "\n",
    "subscription_fg.insert(subscriptions_df)"
   ]
  },
  {
   "cell_type": "code",
   "execution_count": 18,
   "metadata": {},
   "outputs": [],
   "source": [
    "# Update feature descriptions\n",
    "feature_descriptions = [\n",
    "    {\"name\": \"customerid\", \"description\": \"Customer id\"}, \n",
    "    {\"name\": \"deviceprotection\", \"description\": \"Whether customer has signed up for device protection service\"},\n",
    "    {\"name\": \"onlinebackup\", \"description\": \"Whether customer has signed up for online backup service\"}, \n",
    "    {\"name\": \"onlinesecurity\", \"description\": \"Whether customer has signed up for online security service\"}, \n",
    "    {\"name\": \"internetservice\", \"description\": \"Whether customer has signed up for internet service\"}, \n",
    "    {\"name\": \"multiplelines\", \"description\": \"Whether customer has signed up for multiple lines service\"}, \n",
    "    {\"name\": \"phoneservice\", \"description\": \"Whether customer has signed up for phone service\"}, \n",
    "    {\"name\": \"techsupport\", \"description\": \"Whether customer has signed up for tech support service\"}, \n",
    "    {\"name\": \"streamingmovies\", \"description\": \"Whether customer has signed up for streaming movies service\"}, \n",
    "    {\"name\": \"streamingtv\", \"description\": \"Whether customer has signed up for streaming TV service\"},\n",
    "    {\"name\": \"datetime\", \"description\": \"Date when the customer information was recorded\"},\n",
    "]\n",
    "\n",
    "for feature in feature_descriptions:\n",
    "    subscription_fg.update_feature_description(feature[\"name\"], feature[\"description\"])"
   ]
  }
 ],
 "metadata": {
  "kernelspec": {
   "display_name": "venv",
   "language": "python",
   "name": "python3"
  },
  "language_info": {
   "codemirror_mode": {
    "name": "ipython",
    "version": 3
   },
   "file_extension": ".py",
   "mimetype": "text/x-python",
   "name": "python",
   "nbconvert_exporter": "python",
   "pygments_lexer": "ipython3",
   "version": "3.12.5"
  }
 },
 "nbformat": 4,
 "nbformat_minor": 2
}
